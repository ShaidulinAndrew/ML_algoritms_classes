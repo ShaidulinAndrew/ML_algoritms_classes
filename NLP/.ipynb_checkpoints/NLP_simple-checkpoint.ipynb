{
 "cells": [
  {
   "cell_type": "code",
   "execution_count": 1,
   "id": "387e6361",
   "metadata": {},
   "outputs": [],
   "source": [
    "# возьмём исходный текст для анализа\n",
    "corpus = 'When we were in Paris we visited a lot of museums. We first went to the Louvre, the largest art museum in the world. I have always been interested in art so I spent many hours there. The museum is enourmous, so a week there would not be enough.'\n"
   ]
  },
  {
   "cell_type": "code",
   "execution_count": 2,
   "id": "e6158f40",
   "metadata": {},
   "outputs": [],
   "source": [
    "# импортируем основную библиотеку для работы с текстом\n",
    "import nltk\n",
    "\n",
    "import pandas as pd\n",
    "import numpy as np"
   ]
  },
  {
   "cell_type": "markdown",
   "id": "55b26e3d",
   "metadata": {},
   "source": [
    "Предварительная обработка текста"
   ]
  },
  {
   "cell_type": "markdown",
   "id": "1f2dba09",
   "metadata": {},
   "source": [
    "Шаг 1. Разделение на предложения"
   ]
  },
  {
   "cell_type": "code",
   "execution_count": 3,
   "id": "1954614f",
   "metadata": {},
   "outputs": [
    {
     "name": "stderr",
     "output_type": "stream",
     "text": [
      "[nltk_data] Downloading package punkt to\n",
      "[nltk_data]     C:\\Users\\GIGABYTE\\AppData\\Roaming\\nltk_data...\n",
      "[nltk_data]   Unzipping tokenizers\\punkt.zip.\n"
     ]
    },
    {
     "name": "stdout",
     "output_type": "stream",
     "text": [
      "\n"
     ]
    },
    {
     "data": {
      "text/plain": [
       "['When we were in Paris we visited a lot of museums.',\n",
       " 'We first went to the Louvre, the largest art museum in the world.',\n",
       " 'I have always been interested in art so I spent many hours there.',\n",
       " 'The museum is enourmous, so a week there would not be enough.']"
      ]
     },
     "execution_count": 3,
     "metadata": {},
     "output_type": "execute_result"
    }
   ],
   "source": [
    "# импортируем метод sent_tokenize\n",
    "from nltk.tokenize import sent_tokenize\n",
    "\n",
    "# скачиваем модель которая будет делить на предложения\n",
    "nltk.download('punkt')\n",
    "print('')\n",
    "\n",
    "# и применяем метод к нашему тексту\n",
    "sentences = sent_tokenize(corpus)\n",
    "sentences"
   ]
  },
  {
   "cell_type": "markdown",
   "id": "1b261941",
   "metadata": {},
   "source": [
    "Шаг 2. Разделение на слова"
   ]
  },
  {
   "cell_type": "code",
   "execution_count": 4,
   "id": "b05734c3",
   "metadata": {},
   "outputs": [
    {
     "name": "stdout",
     "output_type": "stream",
     "text": [
      "['When', 'we', 'were', 'in', 'Paris', 'we', 'visited', 'a', 'lot', 'of', 'museums', '.']\n"
     ]
    }
   ],
   "source": [
    "# импортируем метод word_tokenize\n",
    "from nltk.tokenize import word_tokenize\n",
    "\n",
    "# разобъем на слова первое предложение\n",
    "print(word_tokenize(sentences[0]))"
   ]
  },
  {
   "cell_type": "code",
   "execution_count": 5,
   "id": "1ab6f7fe",
   "metadata": {},
   "outputs": [
    {
     "name": "stdout",
     "output_type": "stream",
     "text": [
      "['When', 'we', 'were', 'in', 'Paris', 'we', 'visited', 'a', 'lot', 'of', 'museums', '.', 'We', 'first', 'went', 'to', 'the', 'Louvre', ',', 'the', 'largest', 'art', 'museum', 'in', 'the', 'world', '.', 'I', 'have', 'always', 'been', 'interested', 'in', 'art', 'so', 'I', 'spent', 'many', 'hours', 'there', '.', 'The', 'museum', 'is', 'enourmous', ',', 'so', 'a', 'week', 'there', 'would', 'not', 'be', 'enough', '.']\n"
     ]
    }
   ],
   "source": [
    "# теперь проделаем это со всеми предложениями\n",
    "\n",
    "tokens = []\n",
    "\n",
    "for sentence in sentences:\n",
    "    t = word_tokenize(sentence)\n",
    "    tokens.extend(t)\n",
    "print(tokens)"
   ]
  },
  {
   "cell_type": "markdown",
   "id": "4863699a",
   "metadata": {},
   "source": [
    "Шаг 3. Перевод в нижний регистр, удаление стоп-слов и знаков пунктуации"
   ]
  },
  {
   "cell_type": "code",
   "execution_count": 6,
   "id": "a1491b13",
   "metadata": {},
   "outputs": [
    {
     "name": "stderr",
     "output_type": "stream",
     "text": [
      "[nltk_data] Downloading package stopwords to\n",
      "[nltk_data]     C:\\Users\\GIGABYTE\\AppData\\Roaming\\nltk_data...\n"
     ]
    },
    {
     "name": "stdout",
     "output_type": "stream",
     "text": [
      "\n",
      "['paris', 'visited', 'lot', 'museums', 'first', 'went', 'louvre', 'largest', 'art', 'museum', 'world', 'always', 'interested', 'art', 'spent', 'many', 'hours', 'museum', 'enourmous', 'week', 'would', 'enough']\n"
     ]
    },
    {
     "name": "stderr",
     "output_type": "stream",
     "text": [
      "[nltk_data]   Unzipping corpora\\stopwords.zip.\n"
     ]
    }
   ],
   "source": [
    "# импортируем модуль стоп-слов\n",
    "from nltk.corpus import stopwords\n",
    "\n",
    "# скачаем словарь стоп слов\n",
    "nltk.download('stopwords')\n",
    "print('')\n",
    "\n",
    "# используем set, чтобы оставить только уникальные значения\n",
    "unique_stops = set(stopwords.words('english'))\n",
    "\n",
    "# создаем пустой список без стоп-слов\n",
    "no_stops = []\n",
    "\n",
    "for token in tokens:\n",
    "    token = token.lower()\n",
    "    # если токен не в списке стоп-слов и не является знаком пунктуации\n",
    "    if token not in unique_stops and token.isalpha():\n",
    "        no_stops.append(token)\n",
    "print(no_stops)"
   ]
  },
  {
   "cell_type": "code",
   "execution_count": null,
   "id": "6ee12632-eacb-4b1a-9cf4-962b578126c1",
   "metadata": {},
   "outputs": [],
   "source": []
  }
 ],
 "metadata": {
  "kernelspec": {
   "display_name": "Python 3 (ipykernel)",
   "language": "python",
   "name": "python3"
  },
  "language_info": {
   "codemirror_mode": {
    "name": "ipython",
    "version": 3
   },
   "file_extension": ".py",
   "mimetype": "text/x-python",
   "name": "python",
   "nbconvert_exporter": "python",
   "pygments_lexer": "ipython3",
   "version": "3.11.7"
  }
 },
 "nbformat": 4,
 "nbformat_minor": 5
}
