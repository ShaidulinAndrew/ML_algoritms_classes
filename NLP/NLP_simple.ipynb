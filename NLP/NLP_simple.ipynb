{
 "cells": [
  {
   "cell_type": "code",
   "execution_count": 1,
   "id": "387e6361",
   "metadata": {},
   "outputs": [],
   "source": [
    "# возьмём исходный текст для анализа\n",
    "corpus = 'When we were in Paris we visited a lot of museums. We first went to the Louvre, the largest art museum in the world. I have always been interested in art so I spent many hours there. The museum is enourmous, so a week there would not be enough.'\n"
   ]
  },
  {
   "cell_type": "code",
   "execution_count": 2,
   "id": "e6158f40",
   "metadata": {},
   "outputs": [],
   "source": [
    "# импортируем основную библиотеку для работы с текстом\n",
    "import nltk\n",
    "\n",
    "import pandas as pd\n",
    "import numpy as np"
   ]
  },
  {
   "cell_type": "markdown",
   "id": "55b26e3d",
   "metadata": {},
   "source": [
    "Предварительная обработка текста"
   ]
  },
  {
   "cell_type": "markdown",
   "id": "1f2dba09",
   "metadata": {},
   "source": [
    "Шаг 1. Разделение на предложения"
   ]
  },
  {
   "cell_type": "code",
   "execution_count": 3,
   "id": "1954614f",
   "metadata": {},
   "outputs": [
    {
     "name": "stdout",
     "output_type": "stream",
     "text": [
      "\n"
     ]
    },
    {
     "name": "stderr",
     "output_type": "stream",
     "text": [
      "[nltk_data] Downloading package punkt to\n",
      "[nltk_data]     C:\\Users\\GIGABYTE\\AppData\\Roaming\\nltk_data...\n",
      "[nltk_data]   Package punkt is already up-to-date!\n"
     ]
    },
    {
     "data": {
      "text/plain": [
       "['When we were in Paris we visited a lot of museums.',\n",
       " 'We first went to the Louvre, the largest art museum in the world.',\n",
       " 'I have always been interested in art so I spent many hours there.',\n",
       " 'The museum is enourmous, so a week there would not be enough.']"
      ]
     },
     "execution_count": 3,
     "metadata": {},
     "output_type": "execute_result"
    }
   ],
   "source": [
    "# импортируем метод sent_tokenize\n",
    "from nltk.tokenize import sent_tokenize\n",
    "\n",
    "# скачиваем модель которая будет делить на предложения\n",
    "nltk.download('punkt')\n",
    "print('')\n",
    "\n",
    "# и применяем метод к нашему тексту\n",
    "sentences = sent_tokenize(corpus)\n",
    "sentences"
   ]
  },
  {
   "cell_type": "markdown",
   "id": "1b261941",
   "metadata": {},
   "source": [
    "Шаг 2. Разделение на слова"
   ]
  },
  {
   "cell_type": "code",
   "execution_count": 4,
   "id": "b05734c3",
   "metadata": {},
   "outputs": [
    {
     "name": "stdout",
     "output_type": "stream",
     "text": [
      "['When', 'we', 'were', 'in', 'Paris', 'we', 'visited', 'a', 'lot', 'of', 'museums', '.']\n"
     ]
    }
   ],
   "source": [
    "# импортируем метод word_tokenize\n",
    "from nltk.tokenize import word_tokenize\n",
    "\n",
    "# разобъем на слова первое предложение\n",
    "print(word_tokenize(sentences[0]))"
   ]
  },
  {
   "cell_type": "code",
   "execution_count": 5,
   "id": "1ab6f7fe",
   "metadata": {},
   "outputs": [
    {
     "name": "stdout",
     "output_type": "stream",
     "text": [
      "['When', 'we', 'were', 'in', 'Paris', 'we', 'visited', 'a', 'lot', 'of', 'museums', '.', 'We', 'first', 'went', 'to', 'the', 'Louvre', ',', 'the', 'largest', 'art', 'museum', 'in', 'the', 'world', '.', 'I', 'have', 'always', 'been', 'interested', 'in', 'art', 'so', 'I', 'spent', 'many', 'hours', 'there', '.', 'The', 'museum', 'is', 'enourmous', ',', 'so', 'a', 'week', 'there', 'would', 'not', 'be', 'enough', '.']\n"
     ]
    }
   ],
   "source": [
    "# теперь проделаем это со всеми предложениями\n",
    "\n",
    "tokens = []\n",
    "\n",
    "for sentence in sentences:\n",
    "    t = word_tokenize(sentence)\n",
    "    tokens.extend(t)\n",
    "print(tokens)"
   ]
  },
  {
   "cell_type": "markdown",
   "id": "4863699a",
   "metadata": {},
   "source": [
    "Шаг 3. Перевод в нижний регистр, удаление стоп-слов и знаков пунктуации"
   ]
  },
  {
   "cell_type": "code",
   "execution_count": 6,
   "id": "a1491b13",
   "metadata": {},
   "outputs": [
    {
     "name": "stdout",
     "output_type": "stream",
     "text": [
      "\n",
      "['paris', 'visited', 'lot', 'museums', 'first', 'went', 'louvre', 'largest', 'art', 'museum', 'world', 'always', 'interested', 'art', 'spent', 'many', 'hours', 'museum', 'enourmous', 'week', 'would', 'enough']\n"
     ]
    },
    {
     "name": "stderr",
     "output_type": "stream",
     "text": [
      "[nltk_data] Downloading package stopwords to\n",
      "[nltk_data]     C:\\Users\\GIGABYTE\\AppData\\Roaming\\nltk_data...\n",
      "[nltk_data]   Package stopwords is already up-to-date!\n"
     ]
    }
   ],
   "source": [
    "# импортируем модуль стоп-слов\n",
    "from nltk.corpus import stopwords\n",
    "\n",
    "# скачаем словарь стоп слов\n",
    "nltk.download('stopwords')\n",
    "print('')\n",
    "\n",
    "# используем set, чтобы оставить только уникальные значения\n",
    "unique_stops = set(stopwords.words('english'))\n",
    "\n",
    "# создаем пустой список без стоп-слов\n",
    "no_stops = []\n",
    "\n",
    "for token in tokens:\n",
    "    token = token.lower()\n",
    "    # если токен не в списке стоп-слов и не является знаком пунктуации\n",
    "    if token not in unique_stops and token.isalpha():\n",
    "        no_stops.append(token)\n",
    "print(no_stops)"
   ]
  },
  {
   "cell_type": "markdown",
   "id": "3eb9b951-e90e-4217-9b72-0be623865e67",
   "metadata": {},
   "source": [
    "__Лемматизация__\n"
   ]
  },
  {
   "cell_type": "code",
   "execution_count": 7,
   "id": "6b3b431e-9de7-433b-a38d-06e8e55f6ca6",
   "metadata": {},
   "outputs": [
    {
     "name": "stderr",
     "output_type": "stream",
     "text": [
      "[nltk_data] Downloading package wordnet to\n",
      "[nltk_data]     C:\\Users\\GIGABYTE\\AppData\\Roaming\\nltk_data...\n",
      "[nltk_data]   Package wordnet is already up-to-date!\n"
     ]
    },
    {
     "name": "stdout",
     "output_type": "stream",
     "text": [
      "['paris', 'visited', 'lot', 'museum', 'first', 'went', 'louvre', 'largest', 'art', 'museum', 'world', 'always', 'interested', 'art', 'spent', 'many', 'hour', 'museum', 'enourmous', 'week', 'would', 'enough']\n"
     ]
    }
   ],
   "source": [
    "# импортируем класс дл лемматизации\n",
    "from nltk.stem import WordNetLemmatizer \n",
    "\n",
    "# импортируем словарь\n",
    "nltk.download('wordnet')\n",
    "\n",
    "# создаем объект этого класса\n",
    "lemmatizer = WordNetLemmatizer()\n",
    "\n",
    "# и пустой список для слов после лемматизации\n",
    "lemmatized = []\n",
    "\n",
    "# проходимся по всем токенам\n",
    "for token in no_stops:\n",
    "    token = lemmatizer.lemmatize(token)\n",
    "    lemmatized.append(token)\n",
    "print(lemmatized)"
   ]
  },
  {
   "cell_type": "markdown",
   "id": "1c522d18-330d-45d8-a609-6ecbb3ea0082",
   "metadata": {},
   "source": [
    "__Стемминг (поиск основы слова)__\n"
   ]
  },
  {
   "cell_type": "code",
   "execution_count": 10,
   "id": "a756ee81-98a1-47a7-bd4f-fd429e305fe9",
   "metadata": {},
   "outputs": [
    {
     "name": "stdout",
     "output_type": "stream",
     "text": [
      "['pari', 'visit', 'lot', 'museum', 'first', 'went', 'louvr', 'largest', 'art', 'museum', 'world', 'alway', 'interest', 'art', 'spent', 'mani', 'hour', 'museum', 'enourm', 'week', 'would', 'enough']\n"
     ]
    }
   ],
   "source": [
    "# импортируем класс стеммера Porter и создаём объект этого класса\n",
    "from nltk.stem import PorterStemmer\n",
    "porter = PorterStemmer()\n",
    "\n",
    "# используем list comprehension вместо цикла for для стемминга и создание нового списка\n",
    "stemmed_p = [porter.stem(s) for s in lemmatized]\n",
    "print(stemmed_p)"
   ]
  },
  {
   "cell_type": "code",
   "execution_count": 12,
   "id": "c6570a1a-dbb2-441a-9ada-807371633a8d",
   "metadata": {},
   "outputs": [
    {
     "name": "stdout",
     "output_type": "stream",
     "text": [
      "['par', 'visit', 'lot', 'muse', 'first', 'went', 'louvr', 'largest', 'art', 'muse', 'world', 'alway', 'interest', 'art', 'spent', 'many', 'hour', 'muse', 'enourm', 'week', 'would', 'enough']\n"
     ]
    }
   ],
   "source": [
    "# аналогично импортируем класс Lancaster и создаем объект этого класса\n",
    "from nltk.stem import LancasterStemmer\n",
    "lancaster = LancasterStemmer()\n",
    "\n",
    "# так же используем list comprehension вместо цикла for для стемминга и создание нового списка\n",
    "stemmed_l = [lancaster.stem(s) for s in lemmatized]\n",
    "print(stemmed_l)"
   ]
  },
  {
   "cell_type": "markdown",
   "id": "61744e0c-bf60-4df3-8fdf-8d0e7ce76526",
   "metadata": {},
   "source": [
    "__Мешок слов (bag of words, bow)__\n"
   ]
  },
  {
   "cell_type": "markdown",
   "id": "c6eb833e-fee0-4f35-be39-4d273f4264c3",
   "metadata": {},
   "source": [
    "С помощью Counter"
   ]
  },
  {
   "cell_type": "code",
   "execution_count": 9,
   "id": "8779f51a-bb8f-45af-b54e-2da9809d90da",
   "metadata": {},
   "outputs": [
    {
     "name": "stdout",
     "output_type": "stream",
     "text": [
      "[('museum', 3), ('art', 2), ('paris', 1), ('visited', 1), ('lot', 1), ('first', 1), ('went', 1), ('louvre', 1), ('largest', 1), ('world', 1)]\n"
     ]
    }
   ],
   "source": [
    "# из модуля collections импортируем класс Counter\n",
    "from collections import Counter\n",
    "\n",
    "# применяем класс Counter к словам после лемматизации\n",
    "# на выходе нам возвращается словарь {слово: его частота в тексте}\n",
    "bow_counter = Counter(lemmatized)\n",
    "\n",
    "# функция most_common() упорядочивает словарь по значению\n",
    "print(bow_counter.most_common(10))"
   ]
  },
  {
   "cell_type": "markdown",
   "id": "08b35dbb-5bca-4020-9b9f-52194a1cc441",
   "metadata": {},
   "source": [
    "С помощью CountVectorizer"
   ]
  },
  {
   "cell_type": "code",
   "execution_count": 12,
   "id": "1f598153-3c38-4ed2-9e24-0ad0af5ebe2d",
   "metadata": {},
   "outputs": [],
   "source": [
    "# импортируем соответствующий класс\n",
    "from sklearn.feature_extraction.text import CountVectorizer\n",
    "\n",
    "# создаем объект этого класса и указываем, что хотим перевести слова в нижний регистр\n",
    "# а также отфильтровать стоп слова через stop_words = {'english'}\n",
    "vectorizer = CountVectorizer(analyzer = 'word',\n",
    "                             lowercase = True,\n",
    "                             tokenizer = None,\n",
    "                             stop_words = {'english'},\n",
    "                             max_features = 5000)"
   ]
  }
 ],
 "metadata": {
  "kernelspec": {
   "display_name": "Python 3 (ipykernel)",
   "language": "python",
   "name": "python3"
  },
  "language_info": {
   "codemirror_mode": {
    "name": "ipython",
    "version": 3
   },
   "file_extension": ".py",
   "mimetype": "text/x-python",
   "name": "python",
   "nbconvert_exporter": "python",
   "pygments_lexer": "ipython3",
   "version": "3.11.7"
  }
 },
 "nbformat": 4,
 "nbformat_minor": 5
}
