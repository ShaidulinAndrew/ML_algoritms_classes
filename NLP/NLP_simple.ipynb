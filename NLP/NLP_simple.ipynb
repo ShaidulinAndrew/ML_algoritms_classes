{
 "cells": [
  {
   "cell_type": "code",
   "execution_count": 1,
   "id": "387e6361",
   "metadata": {},
   "outputs": [],
   "source": [
    "# возьмём исходный текст для анализа\n",
    "corpus = 'When we were in Paris we visited a lot of museums. We first went to the Louvre, the largest art museum in the world. I have always been interested in art so I spent many hours there. The museum is enourmous, so a week there would not be enough.'\n"
   ]
  },
  {
   "cell_type": "code",
   "execution_count": 2,
   "id": "e6158f40",
   "metadata": {},
   "outputs": [],
   "source": [
    "# импортируем основную библиотеку для работы с текстом\n",
    "import nltk\n",
    "\n",
    "import pandas as pd\n",
    "import numpy as np"
   ]
  },
  {
   "cell_type": "markdown",
   "id": "55b26e3d",
   "metadata": {},
   "source": [
    "Предварительная обработка текста"
   ]
  },
  {
   "cell_type": "markdown",
   "id": "1f2dba09",
   "metadata": {},
   "source": [
    "Шаг 1. Разделение на предложения"
   ]
  },
  {
   "cell_type": "code",
   "execution_count": 3,
   "id": "1954614f",
   "metadata": {},
   "outputs": [
    {
     "name": "stdout",
     "output_type": "stream",
     "text": [
      "\n"
     ]
    },
    {
     "name": "stderr",
     "output_type": "stream",
     "text": [
      "[nltk_data] Downloading package punkt to\n",
      "[nltk_data]     C:\\Users\\GIGABYTE\\AppData\\Roaming\\nltk_data...\n",
      "[nltk_data]   Package punkt is already up-to-date!\n"
     ]
    },
    {
     "data": {
      "text/plain": [
       "['When we were in Paris we visited a lot of museums.',\n",
       " 'We first went to the Louvre, the largest art museum in the world.',\n",
       " 'I have always been interested in art so I spent many hours there.',\n",
       " 'The museum is enourmous, so a week there would not be enough.']"
      ]
     },
     "execution_count": 3,
     "metadata": {},
     "output_type": "execute_result"
    }
   ],
   "source": [
    "# импортируем метод sent_tokenize\n",
    "from nltk.tokenize import sent_tokenize\n",
    "\n",
    "# скачиваем модель которая будет делить на предложения\n",
    "nltk.download('punkt')\n",
    "print('')\n",
    "\n",
    "# и применяем метод к нашему тексту\n",
    "sentences = sent_tokenize(corpus)\n",
    "sentences"
   ]
  },
  {
   "cell_type": "markdown",
   "id": "1b261941",
   "metadata": {},
   "source": [
    "Шаг 2. Разделение на слова"
   ]
  },
  {
   "cell_type": "code",
   "execution_count": 4,
   "id": "b05734c3",
   "metadata": {},
   "outputs": [
    {
     "name": "stdout",
     "output_type": "stream",
     "text": [
      "['When', 'we', 'were', 'in', 'Paris', 'we', 'visited', 'a', 'lot', 'of', 'museums', '.']\n"
     ]
    }
   ],
   "source": [
    "# импортируем метод word_tokenize\n",
    "from nltk.tokenize import word_tokenize\n",
    "\n",
    "# разобъем на слова первое предложение\n",
    "print(word_tokenize(sentences[0]))"
   ]
  },
  {
   "cell_type": "code",
   "execution_count": 5,
   "id": "1ab6f7fe",
   "metadata": {},
   "outputs": [
    {
     "name": "stdout",
     "output_type": "stream",
     "text": [
      "['When', 'we', 'were', 'in', 'Paris', 'we', 'visited', 'a', 'lot', 'of', 'museums', '.', 'We', 'first', 'went', 'to', 'the', 'Louvre', ',', 'the', 'largest', 'art', 'museum', 'in', 'the', 'world', '.', 'I', 'have', 'always', 'been', 'interested', 'in', 'art', 'so', 'I', 'spent', 'many', 'hours', 'there', '.', 'The', 'museum', 'is', 'enourmous', ',', 'so', 'a', 'week', 'there', 'would', 'not', 'be', 'enough', '.']\n"
     ]
    }
   ],
   "source": [
    "# теперь проделаем это со всеми предложениями\n",
    "\n",
    "tokens = []\n",
    "\n",
    "for sentence in sentences:\n",
    "    t = word_tokenize(sentence)\n",
    "    tokens.extend(t)\n",
    "print(tokens)"
   ]
  },
  {
   "cell_type": "markdown",
   "id": "4863699a",
   "metadata": {},
   "source": [
    "Шаг 3. Перевод в нижний регистр, удаление стоп-слов и знаков пунктуации"
   ]
  },
  {
   "cell_type": "code",
   "execution_count": 6,
   "id": "a1491b13",
   "metadata": {},
   "outputs": [
    {
     "name": "stdout",
     "output_type": "stream",
     "text": [
      "\n",
      "['paris', 'visited', 'lot', 'museums', 'first', 'went', 'louvre', 'largest', 'art', 'museum', 'world', 'always', 'interested', 'art', 'spent', 'many', 'hours', 'museum', 'enourmous', 'week', 'would', 'enough']\n"
     ]
    },
    {
     "name": "stderr",
     "output_type": "stream",
     "text": [
      "[nltk_data] Downloading package stopwords to\n",
      "[nltk_data]     C:\\Users\\GIGABYTE\\AppData\\Roaming\\nltk_data...\n",
      "[nltk_data]   Package stopwords is already up-to-date!\n"
     ]
    }
   ],
   "source": [
    "# импортируем модуль стоп-слов\n",
    "from nltk.corpus import stopwords\n",
    "\n",
    "# скачаем словарь стоп слов\n",
    "nltk.download('stopwords')\n",
    "print('')\n",
    "\n",
    "# используем set, чтобы оставить только уникальные значения\n",
    "unique_stops = set(stopwords.words('english'))\n",
    "\n",
    "# создаем пустой список без стоп-слов\n",
    "no_stops = []\n",
    "\n",
    "for token in tokens:\n",
    "    token = token.lower()\n",
    "    # если токен не в списке стоп-слов и не является знаком пунктуации\n",
    "    if token not in unique_stops and token.isalpha():\n",
    "        no_stops.append(token)\n",
    "print(no_stops)"
   ]
  },
  {
   "cell_type": "markdown",
   "id": "3eb9b951-e90e-4217-9b72-0be623865e67",
   "metadata": {},
   "source": [
    "__Лемматизация__\n"
   ]
  },
  {
   "cell_type": "code",
   "execution_count": 7,
   "id": "6b3b431e-9de7-433b-a38d-06e8e55f6ca6",
   "metadata": {},
   "outputs": [
    {
     "name": "stderr",
     "output_type": "stream",
     "text": [
      "[nltk_data] Downloading package wordnet to\n",
      "[nltk_data]     C:\\Users\\GIGABYTE\\AppData\\Roaming\\nltk_data...\n",
      "[nltk_data]   Package wordnet is already up-to-date!\n"
     ]
    },
    {
     "name": "stdout",
     "output_type": "stream",
     "text": [
      "['paris', 'visited', 'lot', 'museum', 'first', 'went', 'louvre', 'largest', 'art', 'museum', 'world', 'always', 'interested', 'art', 'spent', 'many', 'hour', 'museum', 'enourmous', 'week', 'would', 'enough']\n"
     ]
    }
   ],
   "source": [
    "# импортируем класс дл лемматизации\n",
    "from nltk.stem import WordNetLemmatizer \n",
    "\n",
    "# импортируем словарь\n",
    "nltk.download('wordnet')\n",
    "\n",
    "# создаем объект этого класса\n",
    "lemmatizer = WordNetLemmatizer()\n",
    "\n",
    "# и пустой список для слов после лемматизации\n",
    "lemmatized = []\n",
    "\n",
    "# проходимся по всем токенам\n",
    "for token in no_stops:\n",
    "    token = lemmatizer.lemmatize(token)\n",
    "    lemmatized.append(token)\n",
    "print(lemmatized)"
   ]
  },
  {
   "cell_type": "markdown",
   "id": "1c522d18-330d-45d8-a609-6ecbb3ea0082",
   "metadata": {},
   "source": [
    "__Стемминг (поиск основы слова)__\n"
   ]
  },
  {
   "cell_type": "code",
   "execution_count": 8,
   "id": "a756ee81-98a1-47a7-bd4f-fd429e305fe9",
   "metadata": {},
   "outputs": [
    {
     "name": "stdout",
     "output_type": "stream",
     "text": [
      "['pari', 'visit', 'lot', 'museum', 'first', 'went', 'louvr', 'largest', 'art', 'museum', 'world', 'alway', 'interest', 'art', 'spent', 'mani', 'hour', 'museum', 'enourm', 'week', 'would', 'enough']\n"
     ]
    }
   ],
   "source": [
    "# импортируем класс стеммера Porter и создаём объект этого класса\n",
    "from nltk.stem import PorterStemmer\n",
    "porter = PorterStemmer()\n",
    "\n",
    "# используем list comprehension вместо цикла for для стемминга и создание нового списка\n",
    "stemmed_p = [porter.stem(s) for s in lemmatized]\n",
    "print(stemmed_p)"
   ]
  },
  {
   "cell_type": "code",
   "execution_count": 9,
   "id": "c6570a1a-dbb2-441a-9ada-807371633a8d",
   "metadata": {},
   "outputs": [
    {
     "name": "stdout",
     "output_type": "stream",
     "text": [
      "['par', 'visit', 'lot', 'muse', 'first', 'went', 'louvr', 'largest', 'art', 'muse', 'world', 'alway', 'interest', 'art', 'spent', 'many', 'hour', 'muse', 'enourm', 'week', 'would', 'enough']\n"
     ]
    }
   ],
   "source": [
    "# аналогично импортируем класс Lancaster и создаем объект этого класса\n",
    "from nltk.stem import LancasterStemmer\n",
    "lancaster = LancasterStemmer()\n",
    "\n",
    "# так же используем list comprehension вместо цикла for для стемминга и создание нового списка\n",
    "stemmed_l = [lancaster.stem(s) for s in lemmatized]\n",
    "print(stemmed_l)"
   ]
  },
  {
   "cell_type": "markdown",
   "id": "61744e0c-bf60-4df3-8fdf-8d0e7ce76526",
   "metadata": {},
   "source": [
    "__Мешок слов (bag of words, bow)__\n"
   ]
  },
  {
   "cell_type": "markdown",
   "id": "c6eb833e-fee0-4f35-be39-4d273f4264c3",
   "metadata": {},
   "source": [
    "С помощью Counter"
   ]
  },
  {
   "cell_type": "code",
   "execution_count": 10,
   "id": "8779f51a-bb8f-45af-b54e-2da9809d90da",
   "metadata": {},
   "outputs": [
    {
     "name": "stdout",
     "output_type": "stream",
     "text": [
      "[('museum', 3), ('art', 2), ('paris', 1), ('visited', 1), ('lot', 1), ('first', 1), ('went', 1), ('louvre', 1), ('largest', 1), ('world', 1)]\n"
     ]
    }
   ],
   "source": [
    "# из модуля collections импортируем класс Counter\n",
    "from collections import Counter\n",
    "\n",
    "# применяем класс Counter к словам после лемматизации\n",
    "# на выходе нам возвращается словарь {слово: его частота в тексте}\n",
    "bow_counter = Counter(lemmatized)\n",
    "\n",
    "# функция most_common() упорядочивает словарь по значению\n",
    "print(bow_counter.most_common(10))"
   ]
  },
  {
   "cell_type": "markdown",
   "id": "08b35dbb-5bca-4020-9b9f-52194a1cc441",
   "metadata": {},
   "source": [
    "С помощью CountVectorizer"
   ]
  },
  {
   "cell_type": "code",
   "execution_count": 11,
   "id": "1f598153-3c38-4ed2-9e24-0ad0af5ebe2d",
   "metadata": {},
   "outputs": [],
   "source": [
    "# импортируем соответствующий класс\n",
    "from sklearn.feature_extraction.text import CountVectorizer\n",
    "\n",
    "# создаем объект этого класса и указываем, что хотим перевести слова в нижний регистр\n",
    "# а также отфильтровать стоп слова через stop_words = {'english'}\n",
    "vectorizer = CountVectorizer(analyzer = 'word',\n",
    "                             lowercase = True,\n",
    "                             tokenizer = None,\n",
    "                             stop_words = 'english',\n",
    "                             max_features = 5000)"
   ]
  },
  {
   "cell_type": "code",
   "execution_count": 12,
   "id": "22b52519-a084-46ee-829b-6e79f6aeda97",
   "metadata": {},
   "outputs": [
    {
     "name": "stdout",
     "output_type": "stream",
     "text": [
      "<class 'scipy.sparse._csr.csr_matrix'>\n"
     ]
    }
   ],
   "source": [
    "# Применяем этот объект к предложениям (документам)\n",
    "bow_cv = vectorizer.fit_transform(sentences)\n",
    "\n",
    "# на выходе получается матрица csr\n",
    "print(type(bow_cv))"
   ]
  },
  {
   "cell_type": "code",
   "execution_count": 13,
   "id": "120d5c9c-aa5a-4f41-b508-105b5c5cf0bd",
   "metadata": {},
   "outputs": [
    {
     "name": "stdout",
     "output_type": "stream",
     "text": [
      "[[0 0 0 0 0 1 0 0 1 1 0 1 0 0 0]\n",
      " [1 0 0 0 1 0 1 1 0 0 0 0 0 1 1]\n",
      " [1 0 1 1 0 0 0 0 0 0 1 0 0 0 0]\n",
      " [0 1 0 0 0 0 0 1 0 0 0 0 1 0 0]]\n"
     ]
    }
   ],
   "source": [
    "# преобразуем матрицу csr в привычный формат массива Numpy\n",
    "# для этого можно использовать toarray () или todense()\n",
    "\n",
    "print(bow_cv.toarray())"
   ]
  },
  {
   "cell_type": "code",
   "execution_count": 14,
   "id": "ca6042b8-1b7a-42e8-a566-044e97a29bc1",
   "metadata": {},
   "outputs": [
    {
     "data": {
      "text/plain": [
       "(4, 15)"
      ]
     },
     "execution_count": 14,
     "metadata": {},
     "output_type": "execute_result"
    }
   ],
   "source": [
    "# строки это предложения (документы), столбцы - слова (токены)\n",
    "bow_cv.shape"
   ]
  },
  {
   "cell_type": "code",
   "execution_count": 16,
   "id": "1dd53b34-64bb-4e89-9bc3-0e1367a7a67d",
   "metadata": {},
   "outputs": [
    {
     "name": "stdout",
     "output_type": "stream",
     "text": [
      "{'paris': 9, 'visited': 11, 'lot': 5, 'museums': 8, 'went': 13, 'louvre': 6, 'largest': 4, 'art': 0, 'museum': 7, 'world': 14, 'interested': 3, 'spent': 10, 'hours': 2, 'enourmous': 1, 'week': 12}\n",
      "['art' 'enourmous' 'hours' 'interested' 'largest' 'lot' 'louvre' 'museum'\n",
      " 'museums' 'paris' 'spent' 'visited' 'week' 'went' 'world']\n"
     ]
    }
   ],
   "source": [
    "# посмотрим на используемые токены (слова)\n",
    "# здесь числа не частотность, а просто порядковый номер (индекс)\n",
    "\n",
    "vocab = vectorizer.vocabulary_\n",
    "print(vocab)\n",
    "\n",
    "# можно вывести слова без индекса\n",
    "tokens = vectorizer.get_feature_names_out()\n",
    "print(tokens)"
   ]
  },
  {
   "cell_type": "code",
   "execution_count": 18,
   "id": "df9c0458-13b1-49de-bf23-d3995fab4b7c",
   "metadata": {},
   "outputs": [
    {
     "data": {
      "text/html": [
       "<div>\n",
       "<style scoped>\n",
       "    .dataframe tbody tr th:only-of-type {\n",
       "        vertical-align: middle;\n",
       "    }\n",
       "\n",
       "    .dataframe tbody tr th {\n",
       "        vertical-align: top;\n",
       "    }\n",
       "\n",
       "    .dataframe thead th {\n",
       "        text-align: right;\n",
       "    }\n",
       "</style>\n",
       "<table border=\"1\" class=\"dataframe\">\n",
       "  <thead>\n",
       "    <tr style=\"text-align: right;\">\n",
       "      <th></th>\n",
       "      <th>art</th>\n",
       "      <th>enourmous</th>\n",
       "      <th>hours</th>\n",
       "      <th>interested</th>\n",
       "      <th>largest</th>\n",
       "      <th>lot</th>\n",
       "      <th>louvre</th>\n",
       "      <th>museum</th>\n",
       "      <th>museums</th>\n",
       "      <th>paris</th>\n",
       "      <th>spent</th>\n",
       "      <th>visited</th>\n",
       "      <th>week</th>\n",
       "      <th>went</th>\n",
       "      <th>world</th>\n",
       "    </tr>\n",
       "  </thead>\n",
       "  <tbody>\n",
       "    <tr>\n",
       "      <th>Sentence_0</th>\n",
       "      <td>0</td>\n",
       "      <td>0</td>\n",
       "      <td>0</td>\n",
       "      <td>0</td>\n",
       "      <td>0</td>\n",
       "      <td>1</td>\n",
       "      <td>0</td>\n",
       "      <td>0</td>\n",
       "      <td>1</td>\n",
       "      <td>1</td>\n",
       "      <td>0</td>\n",
       "      <td>1</td>\n",
       "      <td>0</td>\n",
       "      <td>0</td>\n",
       "      <td>0</td>\n",
       "    </tr>\n",
       "    <tr>\n",
       "      <th>Sentence_1</th>\n",
       "      <td>1</td>\n",
       "      <td>0</td>\n",
       "      <td>0</td>\n",
       "      <td>0</td>\n",
       "      <td>1</td>\n",
       "      <td>0</td>\n",
       "      <td>1</td>\n",
       "      <td>1</td>\n",
       "      <td>0</td>\n",
       "      <td>0</td>\n",
       "      <td>0</td>\n",
       "      <td>0</td>\n",
       "      <td>0</td>\n",
       "      <td>1</td>\n",
       "      <td>1</td>\n",
       "    </tr>\n",
       "    <tr>\n",
       "      <th>Sentence_2</th>\n",
       "      <td>1</td>\n",
       "      <td>0</td>\n",
       "      <td>1</td>\n",
       "      <td>1</td>\n",
       "      <td>0</td>\n",
       "      <td>0</td>\n",
       "      <td>0</td>\n",
       "      <td>0</td>\n",
       "      <td>0</td>\n",
       "      <td>0</td>\n",
       "      <td>1</td>\n",
       "      <td>0</td>\n",
       "      <td>0</td>\n",
       "      <td>0</td>\n",
       "      <td>0</td>\n",
       "    </tr>\n",
       "    <tr>\n",
       "      <th>Sentence_3</th>\n",
       "      <td>0</td>\n",
       "      <td>1</td>\n",
       "      <td>0</td>\n",
       "      <td>0</td>\n",
       "      <td>0</td>\n",
       "      <td>0</td>\n",
       "      <td>0</td>\n",
       "      <td>1</td>\n",
       "      <td>0</td>\n",
       "      <td>0</td>\n",
       "      <td>0</td>\n",
       "      <td>0</td>\n",
       "      <td>1</td>\n",
       "      <td>0</td>\n",
       "      <td>0</td>\n",
       "    </tr>\n",
       "  </tbody>\n",
       "</table>\n",
       "</div>"
      ],
      "text/plain": [
       "            art  enourmous  hours  interested  largest  lot  louvre  museum  \\\n",
       "Sentence_0    0          0      0           0        0    1       0       0   \n",
       "Sentence_1    1          0      0           0        1    0       1       1   \n",
       "Sentence_2    1          0      1           1        0    0       0       0   \n",
       "Sentence_3    0          1      0           0        0    0       0       1   \n",
       "\n",
       "            museums  paris  spent  visited  week  went  world  \n",
       "Sentence_0        1      1      0        1     0     0      0  \n",
       "Sentence_1        0      0      0        0     0     1      1  \n",
       "Sentence_2        0      0      1        0     0     0      0  \n",
       "Sentence_3        0      0      0        0     1     0      0  "
      ]
     },
     "execution_count": 18,
     "metadata": {},
     "output_type": "execute_result"
    }
   ],
   "source": [
    "# для удобства визуализации преобразуем матрицу в дата фрейм\n",
    "\n",
    "index_list = []\n",
    "for i, _ in enumerate(bow_cv):\n",
    "    index_list.append(f'Sentence_{i}')\n",
    "\n",
    "bow_cv_df = pd.DataFrame(data = bow_cv.toarray(),\n",
    "                         index = index_list,\n",
    "                         columns = tokens)\n",
    "bow_cv_df\n"
   ]
  },
  {
   "cell_type": "markdown",
   "id": "12346dee-bc32-44e4-b24d-10024ad2e17d",
   "metadata": {},
   "source": [
    "__TF-IDF__"
   ]
  },
  {
   "cell_type": "markdown",
   "id": "ac4ee07b-d0c2-4253-941d-4198e39d36c1",
   "metadata": {},
   "source": [
    "Способ 1. CountVectorizer + TfidfTransformer"
   ]
  },
  {
   "cell_type": "markdown",
   "id": "56673094-b3a7-47d8-b4c2-38e8222fb9ad",
   "metadata": {},
   "source": [
    "1) Расчет TF, term frequency, частоты слов"
   ]
  },
  {
   "cell_type": "code",
   "execution_count": 19,
   "id": "71ba1d2d-bf19-407d-b73c-a6af133f58e0",
   "metadata": {},
   "outputs": [
    {
     "data": {
      "text/plain": [
       "<4x15 sparse matrix of type '<class 'numpy.int64'>'\n",
       "\twith 17 stored elements in Compressed Sparse Row format>"
      ]
     },
     "execution_count": 19,
     "metadata": {},
     "output_type": "execute_result"
    }
   ],
   "source": [
    "# этот шаг мы уже сделали\n",
    "bow_cv "
   ]
  },
  {
   "cell_type": "markdown",
   "id": "445597ec-3f9e-442d-90ca-14fa5045b626",
   "metadata": {},
   "source": [
    "2) Теперь нужно расчитать IDF"
   ]
  },
  {
   "cell_type": "code",
   "execution_count": 21,
   "id": "0339c954-e28d-49ca-9b82-d3627f9988fb",
   "metadata": {},
   "outputs": [
    {
     "data": {
      "text/html": [
       "<div>\n",
       "<style scoped>\n",
       "    .dataframe tbody tr th:only-of-type {\n",
       "        vertical-align: middle;\n",
       "    }\n",
       "\n",
       "    .dataframe tbody tr th {\n",
       "        vertical-align: top;\n",
       "    }\n",
       "\n",
       "    .dataframe thead th {\n",
       "        text-align: right;\n",
       "    }\n",
       "</style>\n",
       "<table border=\"1\" class=\"dataframe\">\n",
       "  <thead>\n",
       "    <tr style=\"text-align: right;\">\n",
       "      <th></th>\n",
       "      <th>art</th>\n",
       "      <th>enourmous</th>\n",
       "      <th>hours</th>\n",
       "      <th>interested</th>\n",
       "      <th>largest</th>\n",
       "      <th>lot</th>\n",
       "      <th>louvre</th>\n",
       "      <th>museum</th>\n",
       "      <th>museums</th>\n",
       "      <th>paris</th>\n",
       "      <th>spent</th>\n",
       "      <th>visited</th>\n",
       "      <th>week</th>\n",
       "      <th>went</th>\n",
       "      <th>world</th>\n",
       "    </tr>\n",
       "  </thead>\n",
       "  <tbody>\n",
       "    <tr>\n",
       "      <th>idf_weights</th>\n",
       "      <td>1.510826</td>\n",
       "      <td>1.916291</td>\n",
       "      <td>1.916291</td>\n",
       "      <td>1.916291</td>\n",
       "      <td>1.916291</td>\n",
       "      <td>1.916291</td>\n",
       "      <td>1.916291</td>\n",
       "      <td>1.510826</td>\n",
       "      <td>1.916291</td>\n",
       "      <td>1.916291</td>\n",
       "      <td>1.916291</td>\n",
       "      <td>1.916291</td>\n",
       "      <td>1.916291</td>\n",
       "      <td>1.916291</td>\n",
       "      <td>1.916291</td>\n",
       "    </tr>\n",
       "  </tbody>\n",
       "</table>\n",
       "</div>"
      ],
      "text/plain": [
       "                  art  enourmous     hours  interested   largest       lot  \\\n",
       "idf_weights  1.510826   1.916291  1.916291    1.916291  1.916291  1.916291   \n",
       "\n",
       "               louvre    museum   museums     paris     spent   visited  \\\n",
       "idf_weights  1.916291  1.510826  1.916291  1.916291  1.916291  1.916291   \n",
       "\n",
       "                 week      went     world  \n",
       "idf_weights  1.916291  1.916291  1.916291  "
      ]
     },
     "execution_count": 21,
     "metadata": {},
     "output_type": "execute_result"
    }
   ],
   "source": [
    "# Импортируем TfidfTransformer \n",
    "from sklearn.feature_extraction.text import TfidfTransformer\n",
    "\n",
    "# создадим объект класса TfidfTransformer \n",
    "tfidf_trans = TfidfTransformer(smooth_idf = True, use_idf = True)\n",
    "\n",
    "# расчитаем IDF слов\n",
    "tfidf_trans.fit(bow_cv) \n",
    "\n",
    "# поместим результат в датафрейм\n",
    "df_idf = pd.DataFrame(tfidf_trans.idf_, index = tokens, columns = ['idf_weights'])\n",
    "df_idf.T"
   ]
  },
  {
   "cell_type": "markdown",
   "id": "88255cde-e8ed-49b6-a0b3-f1b0afe86955",
   "metadata": {},
   "source": [
    "3) Остаётся TF x IDF "
   ]
  },
  {
   "cell_type": "code",
   "execution_count": 22,
   "id": "7b52f4a5-d6f4-4852-bc93-ad3f1b206637",
   "metadata": {},
   "outputs": [
    {
     "data": {
      "text/plain": [
       "<4x15 sparse matrix of type '<class 'numpy.float64'>'\n",
       "\twith 17 stored elements in Compressed Sparse Row format>"
      ]
     },
     "execution_count": 22,
     "metadata": {},
     "output_type": "execute_result"
    }
   ],
   "source": [
    "# расчитаем TF x IDF\n",
    "tf_idf_vector = tfidf_trans.transform(bow_cv) \n",
    "tf_idf_vector"
   ]
  }
 ],
 "metadata": {
  "kernelspec": {
   "display_name": "Python 3 (ipykernel)",
   "language": "python",
   "name": "python3"
  },
  "language_info": {
   "codemirror_mode": {
    "name": "ipython",
    "version": 3
   },
   "file_extension": ".py",
   "mimetype": "text/x-python",
   "name": "python",
   "nbconvert_exporter": "python",
   "pygments_lexer": "ipython3",
   "version": "3.11.7"
  }
 },
 "nbformat": 4,
 "nbformat_minor": 5
}
